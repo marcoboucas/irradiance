{
 "cells": [
  {
   "cell_type": "code",
   "execution_count": 1,
   "metadata": {},
   "outputs": [
    {
     "name": "stdout",
     "output_type": "stream",
     "text": [
      "Note: you may need to restart the kernel to use updated packages.\n"
     ]
    },
    {
     "name": "stderr",
     "output_type": "stream",
     "text": [
      "WARNING: You are using pip version 21.1.1; however, version 22.0.4 is available.\n",
      "You should consider upgrading via the 'd:\\Documents\\irradiance\\venv\\Scripts\\python.exe -m pip install --upgrade pip' command.\n"
     ]
    }
   ],
   "source": [
    "%pip install pvlib --quiet"
   ]
  },
  {
   "cell_type": "code",
   "execution_count": 5,
   "metadata": {},
   "outputs": [],
   "source": [
    "%load_ext autoreload\n",
    "%autoreload 2\n",
    "\n",
    "import os\n",
    "import sys\n",
    "import math\n",
    "\n",
    "import pandas as pd\n",
    "import seaborn as sns\n",
    "import matplotlib.pyplot as plt\n",
    "import numpy as np\n",
    "import h5py\n",
    "from tqdm import tqdm\n",
    "import scipy.stats as stats\n",
    "\n",
    "sys.path.append('..')\n",
    "\n",
    "from src.data import load_data, get_africa_mask\n",
    "from src.utils import convert_pixel_to_coordinates\n",
    "from src import config"
   ]
  },
  {
   "cell_type": "code",
   "execution_count": 6,
   "metadata": {},
   "outputs": [],
   "source": [
    "from pvlib import pvsystem, location, modelchain, irradiance"
   ]
  },
  {
   "cell_type": "code",
   "execution_count": 7,
   "metadata": {},
   "outputs": [
    {
     "data": {
      "text/html": [
       "<div>\n",
       "<style scoped>\n",
       "    .dataframe tbody tr th:only-of-type {\n",
       "        vertical-align: middle;\n",
       "    }\n",
       "\n",
       "    .dataframe tbody tr th {\n",
       "        vertical-align: top;\n",
       "    }\n",
       "\n",
       "    .dataframe thead th {\n",
       "        text-align: right;\n",
       "    }\n",
       "</style>\n",
       "<table border=\"1\" class=\"dataframe\">\n",
       "  <thead>\n",
       "    <tr style=\"text-align: right;\">\n",
       "      <th></th>\n",
       "      <th>ghi</th>\n",
       "      <th>dni</th>\n",
       "      <th>dhi</th>\n",
       "    </tr>\n",
       "  </thead>\n",
       "  <tbody>\n",
       "    <tr>\n",
       "      <th>2019-01-01 06:00:00-05:00</th>\n",
       "      <td>822.276746</td>\n",
       "      <td>782.659302</td>\n",
       "      <td>169.526207</td>\n",
       "    </tr>\n",
       "    <tr>\n",
       "      <th>2019-01-01 06:05:00-05:00</th>\n",
       "      <td>824.443446</td>\n",
       "      <td>783.336116</td>\n",
       "      <td>169.715732</td>\n",
       "    </tr>\n",
       "    <tr>\n",
       "      <th>2019-01-01 06:10:00-05:00</th>\n",
       "      <td>826.094277</td>\n",
       "      <td>783.850188</td>\n",
       "      <td>169.859916</td>\n",
       "    </tr>\n",
       "    <tr>\n",
       "      <th>2019-01-01 06:15:00-05:00</th>\n",
       "      <td>827.228344</td>\n",
       "      <td>784.202541</td>\n",
       "      <td>169.958857</td>\n",
       "    </tr>\n",
       "    <tr>\n",
       "      <th>2019-01-01 06:20:00-05:00</th>\n",
       "      <td>827.845037</td>\n",
       "      <td>784.393874</td>\n",
       "      <td>170.012623</td>\n",
       "    </tr>\n",
       "  </tbody>\n",
       "</table>\n",
       "</div>"
      ],
      "text/plain": [
       "                                  ghi         dni         dhi\n",
       "2019-01-01 06:00:00-05:00  822.276746  782.659302  169.526207\n",
       "2019-01-01 06:05:00-05:00  824.443446  783.336116  169.715732\n",
       "2019-01-01 06:10:00-05:00  826.094277  783.850188  169.859916\n",
       "2019-01-01 06:15:00-05:00  827.228344  784.202541  169.958857\n",
       "2019-01-01 06:20:00-05:00  827.845037  784.393874  170.012623"
      ]
     },
     "execution_count": 7,
     "metadata": {},
     "output_type": "execute_result"
    },
    {
     "data": {
      "image/png": "[encoded data removed]",
      "text/plain": [
       "<Figure size 432x288 with 1 Axes>"
      ]
     },
     "metadata": {
      "needs_background": "light"
     },
     "output_type": "display_data"
    }
   ],
   "source": [
    "loc = location.Location(10, 10)\n",
    "times = pd.date_range(\n",
    "    \"2019-01-01 06:00\", \"2019-01-01 18:00\", freq=\"5min\", tz=\"Etc/GMT+5\"\n",
    ")\n",
    "weather = loc.get_clearsky(times)\n",
    "weather.ghi.plot()\n",
    "weather.head()"
   ]
  },
  {
   "cell_type": "code",
   "execution_count": 8,
   "metadata": {},
   "outputs": [],
   "source": [
    "def search_day_max(loc_x: int, loc_y: int, day: str = \"2019-01-01\"):\n",
    "    \"\"\"Search the max for one day.\"\"\"\n",
    "    lat, long = convert_pixel_to_coordinates(loc_x, loc_y)\n",
    "    loc = location.Location(lat, long)\n",
    "    times = pd.date_range(\n",
    "        f\"{day} 06:00\", f\"{day} 22:00\", freq=\"1h\", tz=\"Etc/GMT+5\"\n",
    "    )\n",
    "    weather = loc.get_clearsky(times)\n",
    "    return weather.ghi.max()\n",
    "    "
   ]
  },
  {
   "cell_type": "code",
   "execution_count": 9,
   "metadata": {},
   "outputs": [
    {
     "data": {
      "text/plain": [
       "array([ 85.8336211 ,  82.48409318,  79.10902788,  75.73547257,\n",
       "        72.37438723,  69.03269084,  65.71631257,  62.43128988,\n",
       "        59.18433842,  55.98327869,  52.83745495,  49.7582134 ,\n",
       "        46.75947896,  43.85845791,  41.07648188,  38.43997125,\n",
       "        35.98142665,  33.74022987,  31.76282334,  30.10157941,\n",
       "        28.81151689,  27.94430047,  27.54004271,  27.61914532,\n",
       "        28.17753192,  29.18763476,  30.60462462,  32.37492749,\n",
       "        34.44386572,  36.76076056,  39.28142574,  41.96878216,\n",
       "        44.79241341,  47.72766713,  50.75465666,  53.85733106,\n",
       "        57.02267667,  60.2400582 ,  63.50067778,  66.79712074,\n",
       "        70.12294357,  73.47222145,  76.83887037,  80.21516938,\n",
       "        83.58716163,  86.91406578,  90.01014811,  94.02638225,\n",
       "        97.4742476 , 100.92482563, 104.37589952, 107.82518187,\n",
       "       111.27024318, 114.70842692, 118.13674648, 121.55175651,\n",
       "       124.94938415, 128.3247043 , 131.67163547, 134.98251682,\n",
       "       138.2475136 , 141.45377205, 144.5842042 , 147.61574069,\n",
       "       150.51684772, 153.24411783, 155.7379853 , 157.91844708,\n",
       "       159.68367709, 160.91757084, 161.51308042, 161.40859496,\n",
       "       160.61544596, 159.2124875 , 157.31287856, 155.03013222,\n",
       "       152.45986774, 149.67569528, 146.73193397, 143.66807378,\n",
       "       140.51283888, 137.28731128, 134.00717385, 130.6842806 ,\n",
       "       127.32774828, 123.94471682, 120.54088621, 117.12090008,\n",
       "       113.6886228 , 110.24734543, 106.79994155, 103.34898679,\n",
       "        99.89685572,  96.44580258,  92.99803018])"
      ]
     },
     "execution_count": 9,
     "metadata": {},
     "output_type": "execute_result"
    }
   ],
   "source": [
    "def search_day_AOI(loc_x: int, loc_y: int, day: str = \"2019-01-01\"):\n",
    "    \"\"\"Search the AOI for one day.\"\"\"\n",
    "    lat, long = convert_pixel_to_coordinates(loc_x, loc_y)\n",
    "    loc = location.Location(lat, long)\n",
    "    times = pd.date_range(\n",
    "        f\"{day} 00:15\", f\"{day} 23:45\", freq=\"15min\", tz=\"Etc/GMT+5\"\n",
    "    )\n",
    "    weather = loc.get_solarposition(times)\n",
    "    \n",
    "    aoi = irradiance.aoi(0, 0, weather.apparent_zenith, weather.azimuth)\n",
    "    return aoi.to_numpy()\n",
    "search_day_AOI(200, 200)"
   ]
  },
  {
   "cell_type": "code",
   "execution_count": 10,
   "metadata": {},
   "outputs": [
    {
     "name": "stderr",
     "output_type": "stream",
     "text": [
      "35898it [05:56, 100.58it/s]                             \n"
     ]
    }
   ],
   "source": [
    "africa = np.zeros((config.RAW_DATA_WIDTH, config.RAW_DATA_HEIGHT, 95))\n",
    "\n",
    "func = search_day_AOI\n",
    "\n",
    "size = 2\n",
    "with tqdm(total=int(config.RAW_DATA_HEIGHT * config.RAW_DATA_WIDTH)/size**2) as pbar:\n",
    "    for x in range(0, config.RAW_DATA_WIDTH, size):\n",
    "        for y in range(0, config.RAW_DATA_HEIGHT, size):\n",
    "            val = func(x, y)\n",
    "            africa[y:y+size, x:x+size] = val\n",
    "            pbar.update(1)\n"
   ]
  },
  {
   "cell_type": "code",
   "execution_count": 11,
   "metadata": {},
   "outputs": [],
   "source": [
    "africa_mask = get_africa_mask()"
   ]
  },
  {
   "cell_type": "code",
   "execution_count": 17,
   "metadata": {},
   "outputs": [
    {
     "name": "stderr",
     "output_type": "stream",
     "text": [
      "100%|██████████| 95/95 [00:13<00:00,  6.85it/s]\n"
     ]
    }
   ],
   "source": [
    "# Generate all the images\n",
    "from tqdm import tqdm\n",
    "\n",
    "for image_idx in tqdm(range(africa.shape[-1])):\n",
    "    fig, ax = plt.subplots(1, 1, figsize=(10, 10))\n",
    "    ax.imshow(africa[:, :, image_idx] * africa_mask, cmap=\"inferno_r\")\n",
    "    ax.set_title(f\"AOI for {image_idx}\")\n",
    "    plt.savefig(f\"../images/AOI/{str(image_idx).rjust(3,'0')}.png\")\n",
    "    plt.close()"
   ]
  },
  {
   "cell_type": "code",
   "execution_count": 18,
   "metadata": {},
   "outputs": [],
   "source": [
    "# https://stackoverflow.com/a/57751793\n",
    "import glob\n",
    "from PIL import Image\n",
    "\n",
    "# filepaths\n",
    "fp_in = \"../images/AOI/*.png\"\n",
    "fp_out = \"../images/AOI_over_day.gif\"\n",
    "\n",
    "# https://pillow.readthedocs.io/en/stable/handbook/image-file-formats.html#gif\n",
    "imgs = (Image.open(f) for f in sorted(glob.glob(fp_in)))\n",
    "img = next(imgs)  # extract first image from iterator\n",
    "img.save(\n",
    "    fp=fp_out, format=\"GIF\", append_images=imgs, save_all=True, duration=100, loop=0\n",
    ")"
   ]
  }
 ],
 "metadata": {
  "interpreter": {
   "hash": "acb95234d6af910d214805f26dc5d62cb2e3afd6d5f93c3e27545e7372410d9c"
  },
  "kernelspec": {
   "display_name": "Python 3.8.10 ('venv': venv)",
   "language": "python",
   "name": "python3"
  },
  "language_info": {
   "codemirror_mode": {
    "name": "ipython",
    "version": 3
   },
   "file_extension": ".py",
   "mimetype": "text/x-python",
   "name": "python",
   "nbconvert_exporter": "python",
   "pygments_lexer": "ipython3",
   "version": "3.8.10"
  },
  "orig_nbformat": 4
 },
 "nbformat": 4,
 "nbformat_minor": 2
}
