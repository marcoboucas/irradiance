{
 "cells": [
  {
   "cell_type": "code",
   "execution_count": 1,
   "metadata": {},
   "outputs": [
    {
     "name": "stdout",
     "output_type": "stream",
     "text": [
      "Note: you may need to restart the kernel to use updated packages.\n"
     ]
    },
    {
     "name": "stderr",
     "output_type": "stream",
     "text": [
      "WARNING: You are using pip version 21.1.1; however, version 22.0.4 is available.\n",
      "You should consider upgrading via the 'd:\\Documents\\irradiance\\venv\\Scripts\\python.exe -m pip install --upgrade pip' command.\n"
     ]
    }
   ],
   "source": [
    "%pip install pvlib --quiet"
   ]
  },
  {
   "cell_type": "code",
   "execution_count": 1,
   "metadata": {},
   "outputs": [],
   "source": [
    "%load_ext autoreload\n",
    "%autoreload 2\n",
    "\n",
    "import os\n",
    "import sys\n",
    "import math\n",
    "\n",
    "import pandas as pd\n",
    "import seaborn as sns\n",
    "import matplotlib.pyplot as plt\n",
    "import numpy as np\n",
    "import h5py\n",
    "from tqdm import tqdm\n",
    "import scipy.stats as stats\n",
    "\n",
    "sys.path.append('..')\n",
    "\n",
    "from src.data import load_data\n",
    "from src.utils import convert_pixel_to_coordinates\n",
    "from src import config"
   ]
  },
  {
   "cell_type": "code",
   "execution_count": 2,
   "metadata": {},
   "outputs": [],
   "source": [
    "from pvlib import pvsystem, location, modelchain"
   ]
  },
  {
   "cell_type": "code",
   "execution_count": 9,
   "metadata": {},
   "outputs": [
    {
     "name": "stdout",
     "output_type": "stream",
     "text": [
      "The history saving thread hit an unexpected error (OperationalError('database or disk is full')).History will not be written to the database.\n"
     ]
    },
    {
     "data": {
      "text/html": [
       "<div>\n",
       "<style scoped>\n",
       "    .dataframe tbody tr th:only-of-type {\n",
       "        vertical-align: middle;\n",
       "    }\n",
       "\n",
       "    .dataframe tbody tr th {\n",
       "        vertical-align: top;\n",
       "    }\n",
       "\n",
       "    .dataframe thead th {\n",
       "        text-align: right;\n",
       "    }\n",
       "</style>\n",
       "<table border=\"1\" class=\"dataframe\">\n",
       "  <thead>\n",
       "    <tr style=\"text-align: right;\">\n",
       "      <th></th>\n",
       "      <th>ghi</th>\n",
       "      <th>dni</th>\n",
       "      <th>dhi</th>\n",
       "    </tr>\n",
       "  </thead>\n",
       "  <tbody>\n",
       "    <tr>\n",
       "      <th>2019-01-01 06:00:00-05:00</th>\n",
       "      <td>751.226636</td>\n",
       "      <td>692.940107</td>\n",
       "      <td>193.908657</td>\n",
       "    </tr>\n",
       "    <tr>\n",
       "      <th>2019-01-01 06:05:00-05:00</th>\n",
       "      <td>757.398914</td>\n",
       "      <td>695.264251</td>\n",
       "      <td>194.601581</td>\n",
       "    </tr>\n",
       "    <tr>\n",
       "      <th>2019-01-01 06:10:00-05:00</th>\n",
       "      <td>763.077687</td>\n",
       "      <td>697.382474</td>\n",
       "      <td>195.235361</td>\n",
       "    </tr>\n",
       "    <tr>\n",
       "      <th>2019-01-01 06:15:00-05:00</th>\n",
       "      <td>768.259693</td>\n",
       "      <td>699.298823</td>\n",
       "      <td>195.810617</td>\n",
       "    </tr>\n",
       "    <tr>\n",
       "      <th>2019-01-01 06:20:00-05:00</th>\n",
       "      <td>772.941968</td>\n",
       "      <td>701.016930</td>\n",
       "      <td>196.327902</td>\n",
       "    </tr>\n",
       "  </tbody>\n",
       "</table>\n",
       "</div>"
      ],
      "text/plain": [
       "                                  ghi         dni         dhi\n",
       "2019-01-01 06:00:00-05:00  751.226636  692.940107  193.908657\n",
       "2019-01-01 06:05:00-05:00  757.398914  695.264251  194.601581\n",
       "2019-01-01 06:10:00-05:00  763.077687  697.382474  195.235361\n",
       "2019-01-01 06:15:00-05:00  768.259693  699.298823  195.810617\n",
       "2019-01-01 06:20:00-05:00  772.941968  701.016930  196.327902"
      ]
     },
     "execution_count": 9,
     "metadata": {},
     "output_type": "execute_result"
    },
    {
     "data": {
      "image/png": "[encoded data removed]",
      "text/plain": [
       "<Figure size 432x288 with 1 Axes>"
      ]
     },
     "metadata": {
      "needs_background": "light"
     },
     "output_type": "display_data"
    }
   ],
   "source": [
    "loc = location.Location(10, 0)\n",
    "times = pd.date_range(\n",
    "    \"2019-01-01 06:00\", \"2019-01-01 18:00\", freq=\"5min\", tz=\"Etc/GMT+5\"\n",
    ")\n",
    "weather = loc.get_clearsky(times)\n",
    "weather.ghi.plot()\n",
    "weather.head()"
   ]
  },
  {
   "cell_type": "code",
   "execution_count": 10,
   "metadata": {},
   "outputs": [],
   "source": [
    "def search_day_max(loc_x: int, loc_y: int, day: str = \"2019-01-01\"):\n",
    "    \"\"\"Search the max for one day.\"\"\"\n",
    "    lat, long = convert_pixel_to_coordinates(loc_x, loc_y)\n",
    "    loc = location.Location(lat, long)\n",
    "    times = pd.date_range(\n",
    "        f\"{day} 06:00\", f\"{day} 22:00\", freq=\"1h\", tz=\"Etc/GMT+5\"\n",
    "    )\n",
    "    weather = loc.get_clearsky(times)\n",
    "    return weather.ghi.max()\n",
    "    "
   ]
  },
  {
   "cell_type": "code",
   "execution_count": 16,
   "metadata": {},
   "outputs": [
    {
     "name": "stderr",
     "output_type": "stream",
     "text": [
      "1482it [01:01, 24.13it/s]                             \n"
     ]
    }
   ],
   "source": [
    "africa = np.zeros((config.RAW_DATA_WIDTH, config.RAW_DATA_HEIGHT))\n",
    "\n",
    "size = 10\n",
    "with tqdm(total=int(config.RAW_DATA_HEIGHT * config.RAW_DATA_WIDTH)/size**2) as pbar:\n",
    "    for x in range(0, config.RAW_DATA_WIDTH, size):\n",
    "        for y in range(0, config.RAW_DATA_HEIGHT, size):\n",
    "            val = search_day_max(x, y)\n",
    "            africa[y:y+size, x:x+size] = val\n",
    "            pbar.update(1)\n"
   ]
  },
  {
   "cell_type": "code",
   "execution_count": 17,
   "metadata": {},
   "outputs": [
    {
     "data": {
      "image/png": "[encoded data removed]",
      "text/plain": [
       "<Figure size 432x288 with 2 Axes>"
      ]
     },
     "metadata": {
      "needs_background": "light"
     },
     "output_type": "display_data"
    }
   ],
   "source": [
    "sns.heatmap(africa);"
   ]
  },
  {
   "cell_type": "code",
   "execution_count": null,
   "metadata": {},
   "outputs": [],
   "source": []
  }
 ],
 "metadata": {
  "interpreter": {
   "hash": "acb95234d6af910d214805f26dc5d62cb2e3afd6d5f93c3e27545e7372410d9c"
  },
  "kernelspec": {
   "display_name": "Python 3.8.10 ('venv': venv)",
   "language": "python",
   "name": "python3"
  },
  "language_info": {
   "codemirror_mode": {
    "name": "ipython",
    "version": 3
   },
   "file_extension": ".py",
   "mimetype": "text/x-python",
   "name": "python",
   "nbconvert_exporter": "python",
   "pygments_lexer": "ipython3",
   "version": "3.8.10"
  },
  "orig_nbformat": 4
 },
 "nbformat": 4,
 "nbformat_minor": 2
}
