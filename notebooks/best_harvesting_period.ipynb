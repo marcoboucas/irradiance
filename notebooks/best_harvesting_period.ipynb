{
 "cells": [
  {
   "cell_type": "code",
   "execution_count": 68,
   "metadata": {
    "collapsed": true
   },
   "outputs": [],
   "source": [
    "import sys\n",
    "\n",
    "import matplotlib.pyplot as plt\n",
    "import numpy as np\n",
    "import pandas as pd\n",
    "import seaborn as sns\n",
    "\n",
    "sys.path.append('..')\n",
    "from src.data import load_data"
   ]
  },
  {
   "cell_type": "code",
   "execution_count": 69,
   "outputs": [],
   "source": [
    "data_2020 = load_data(\"../data\", \"2020\")\n",
    "data_2019 = load_data(\"../data\", \"2019\")\n",
    "\n",
    "current_location = data_2020[:, 168, 150]\n",
    "current_location_last_year = data_2020[:, 168, 150]"
   ],
   "metadata": {
    "collapsed": false,
    "pycharm": {
     "name": "#%%\n"
    }
   }
  },
  {
   "cell_type": "code",
   "execution_count": null,
   "outputs": [],
   "source": [
    "def compute_flow_rate_over_a_year(panel_size: int, point_data: np.array, panel_yield: float) -> np.array:\n",
    "    \"\"\"\n",
    "    Compute the flow rate over a year for a given panel size.\n",
    "    panel_size: the size of the panel in m².\n",
    "    point_data: measures of irradiance for the given point in W/m² sampled every 15 minutes.\n",
    "    panel_yield: the panel yield.\n",
    "    returns: the flow rate corresponding to the given power.\n",
    "    \"\"\"\n",
    "    assert panel_size >= 1.0, \"Usually at least 3m² per pump are required\"\n",
    "    assert 0 < panel_yield < 1, \"Panel yield must be between 0 and 1\"\n",
    "\n",
    "    panel_output_power = 1.0 * point_data * panel_size * panel_yield\n",
    "    pump_entry_power = np.minimum(panel_output_power, 78.0)\n",
    "\n",
    "    power_to_flow_rate_15_min = lambda power: max([(power - 74.5) / (4 * 0.00375), 0])\n",
    "    return np.vectorize(power_to_flow_rate_15_min)(pump_entry_power)"
   ],
   "metadata": {
    "collapsed": false,
    "pycharm": {
     "name": "#%%\n"
    }
   }
  },
  {
   "cell_type": "code",
   "execution_count": null,
   "outputs": [],
   "source": [
    "compute_flow_rate_over_a_year(4, current_location, 0.15)"
   ],
   "metadata": {
    "collapsed": false,
    "pycharm": {
     "name": "#%%\n"
    }
   }
  },
  {
   "cell_type": "code",
   "execution_count": null,
   "outputs": [],
   "source": [
    "from matplotlib.patches import Rectangle\n",
    "\n",
    "# During the growth process we need a one to two month period with 4 times more water than the rest of the year.\n",
    "# This period will define when we need to harvest plants\n",
    "ROLLING_WINDOW = 60\n",
    "\n",
    "\n",
    "def draw_rectangle(ax, minidx, maxidx, max_value, length):\n",
    "    ax.add_patch(Rectangle((max([0, minidx]), 0), maxidx, max_value, color='green', alpha=0.2))\n",
    "\n",
    "    if minidx <= 0:\n",
    "        ax.add_patch(Rectangle((length + minidx, 0), -minidx, max_value, color='green', alpha=0.2))\n",
    "\n",
    "\n",
    "def find_best_harvesting_period(yearly_flow_rate_15_min: np.array, last_year_flow_rate_15_min: np.array,\n",
    "                                solar_surface: float = None) -> tuple[int, int]:\n",
    "    \"\"\"\n",
    "    Returns the best harvesting period for a given flow rate of water sampled every 15 minutes.\n",
    "    yearly_flow_rate_15_min: flow rate of water sampled every 15 minute\n",
    "    last_year_flow_rate_15_min: flow rate of water sampled every 15 minute for the {window} days of last year\n",
    "    returns: starting and ending index of the best period\n",
    "    \"\"\"\n",
    "    daily_flow_rate = yearly_flow_rate_15_min.reshape((366, 96)).sum(axis=1)\n",
    "    last_year_daily_flow_rate = last_year_flow_rate_15_min.reshape((ROLLING_WINDOW, 96)).sum(axis=1)\n",
    "\n",
    "    # We need to smooth the curve because some days with a lot clouds are adding to much noise\n",
    "    daily_flow_rate_series = pd.concat([pd.Series(last_year_daily_flow_rate), pd.Series(daily_flow_rate)])\n",
    "    daily_flow_rate_trailing_7_days = daily_flow_rate_series.rolling(window=7, min_periods=0).mean()\n",
    "\n",
    "    minimum_flow_trailing_60_days = daily_flow_rate_trailing_7_days.rolling(window=ROLLING_WINDOW).min()[\n",
    "                                    ROLLING_WINDOW:]\n",
    "\n",
    "    best_minimum_flow_rate_over_60_days = minimum_flow_trailing_60_days.max()\n",
    "\n",
    "    # We have the max value now we need days index\n",
    "    days_with_best_minimum_flow_rate_over_60_days = minimum_flow_trailing_60_days[\n",
    "        minimum_flow_trailing_60_days >= 0.98 * best_minimum_flow_rate_over_60_days].index\n",
    "\n",
    "    # As the minimum is computed over 60 previous days we subtract the time window\n",
    "    period_start = days_with_best_minimum_flow_rate_over_60_days[0] - ROLLING_WINDOW\n",
    "    period_end = days_with_best_minimum_flow_rate_over_60_days[-1]\n",
    "\n",
    "    daily_flow_rate_trailing_7_days = daily_flow_rate_trailing_7_days[ROLLING_WINDOW:]\n",
    "\n",
    "    length = len(minimum_flow_trailing_60_days)\n",
    "\n",
    "    fig, ax = plt.subplots(1, 1, figsize=(20, 12))\n",
    "    fig.suptitle(\n",
    "        f\"Smoothed daily flow (L/days) with targeted harvesting period \\n Solar panel surface area: {solar_surface}m² \\n At least {best_minimum_flow_rate_over_60_days/solar_surface:.0f} l/day/m²\", fontsize=25)\n",
    "    sns.lineplot(x=range(len(daily_flow_rate_trailing_7_days)), ax=ax, y=daily_flow_rate_trailing_7_days)\n",
    "    draw_rectangle(ax, period_start, period_end, best_minimum_flow_rate_over_60_days, length)\n",
    "    ax.axhline(y=best_minimum_flow_rate_over_60_days, color='g')\n",
    "    ax.axhline(y=0, color='k')\n",
    "\n",
    "    if solar_surface is not None:\n",
    "        plt.savefig(f\"../docs/daily_flow{solar_surface:.0f}m2.png\", bbox_inches='tight')\n",
    "    else:\n",
    "        plt.show()\n",
    "\n",
    "    fig, ax = plt.subplots(1, 1, figsize=(20, 12))\n",
    "    fig.suptitle(\n",
    "        f\"Minimum daily flow trailing 60 days (L/days) with targeted harvesting period \\n Solar panel surface area: {solar_surface}m²\")\n",
    "    sns.lineplot(x=range(len(minimum_flow_trailing_60_days)), ax=ax, y=minimum_flow_trailing_60_days)\n",
    "    draw_rectangle(ax, period_start, period_end, best_minimum_flow_rate_over_60_days, length)\n",
    "    ax.axhline(y=best_minimum_flow_rate_over_60_days, color='g')\n",
    "    ax.axhline(y=0, color='k')\n",
    "    plt.show()\n",
    "\n",
    "    return period_start, period_end, best_minimum_flow_rate_over_60_days\n"
   ],
   "metadata": {
    "collapsed": false,
    "pycharm": {
     "name": "#%%\n"
    }
   }
  },
  {
   "cell_type": "code",
   "execution_count": null,
   "outputs": [],
   "source": [
    "for solar_surface in [2.0, 3.0, 4.0, 5.0, 6.0, 7.0, 8.0]:\n",
    "    current_year_data = compute_flow_rate_over_a_year(solar_surface, current_location, 0.15)\n",
    "    last_year_last_60_days = compute_flow_rate_over_a_year(solar_surface, current_location_last_year, 0.15)[-60 * 96:]\n",
    "    find_best_harvesting_period(current_year_data, last_year_last_60_days, solar_surface)"
   ],
   "metadata": {
    "collapsed": false,
    "pycharm": {
     "name": "#%%\n"
    }
   }
  }
 ],
 "metadata": {
  "kernelspec": {
   "display_name": "Python 3",
   "language": "python",
   "name": "python3"
  },
  "language_info": {
   "codemirror_mode": {
    "name": "ipython",
    "version": 2
   },
   "file_extension": ".py",
   "mimetype": "text/x-python",
   "name": "python",
   "nbconvert_exporter": "python",
   "pygments_lexer": "ipython2",
   "version": "2.7.6"
  }
 },
 "nbformat": 4,
 "nbformat_minor": 0
}